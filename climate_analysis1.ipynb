{
 "cells": [
  {
   "cell_type": "code",
   "execution_count": 1,
   "metadata": {
    "collapsed": true
   },
   "outputs": [],
   "source": [
    "# Import SQL Alchemy\n",
    "import sqlalchemy \n",
    "from sqlalchemy import create_engine\n",
    "from sqlalchemy.orm import Session\n",
    "\n",
    "# Import and establish Base for which classes will be constructed \n",
    "from sqlalchemy.ext.automap import automap_base\n",
    "\n",
    "# Import modules to declare columns and column data types\n",
    "from sqlalchemy import Column, Integer, String, Float, inspect, MetaData, Table, func\n",
    "\n",
    "from datetime import datetime as dt\n",
    "\n",
    "import pandas as pd\n",
    "import numpy as np\n",
    "import matplotlib.pyplot as plt\n",
    "import seaborn\n",
    "\n",
    "from flask import jsonify\n"
   ]
  },
  {
   "cell_type": "code",
   "execution_count": 2,
   "metadata": {
    "collapsed": true
   },
   "outputs": [],
   "source": [
    "# Create an engine to a SQLite database file called `hawaii.sqlite`\n",
    "engine = create_engine(\"sqlite:///hawaii.sqlite\")\n",
    "\n",
    "# engine.execute('SELECT * FROM weather_measurements LIMIT 5').fetchall()\n",
    "# engine.execute('SELECT * FROM weather_stations LIMIT 5').fetchall()"
   ]
  },
  {
   "cell_type": "code",
   "execution_count": 3,
   "metadata": {
    "collapsed": true
   },
   "outputs": [],
   "source": [
    "# Declare a Base using `automap_base()` OR assign Base the automap functionality\n",
    "Base = automap_base()"
   ]
  },
  {
   "cell_type": "code",
   "execution_count": 4,
   "metadata": {
    "collapsed": true
   },
   "outputs": [],
   "source": [
    "# Use the Base class to reflect the database tables from engine. Automap base converts tables to classes automatically \n",
    "Base.prepare(engine, reflect=True)"
   ]
  },
  {
   "cell_type": "code",
   "execution_count": 5,
   "metadata": {},
   "outputs": [
    {
     "data": {
      "text/plain": [
       "['measurements', 'stations']"
      ]
     },
     "execution_count": 5,
     "metadata": {},
     "output_type": "execute_result"
    }
   ],
   "source": [
    "# Print all of the classes mapped to the Base\n",
    "Base.classes.keys()"
   ]
  },
  {
   "cell_type": "code",
   "execution_count": 6,
   "metadata": {
    "collapsed": true
   },
   "outputs": [],
   "source": [
    "# Reflect tables into classes and save a reference to those classes called `Station` and `Measurement`. \n",
    "Measurements = Base.classes.measurements\n",
    "Stations = Base.classes.stations"
   ]
  },
  {
   "cell_type": "code",
   "execution_count": 7,
   "metadata": {
    "collapsed": true
   },
   "outputs": [],
   "source": [
    "# Create a session\n",
    "session = Session(engine)"
   ]
  },
  {
   "cell_type": "code",
   "execution_count": 8,
   "metadata": {},
   "outputs": [
    {
     "name": "stdout",
     "output_type": "stream",
     "text": [
      "(<sqlalchemy.ext.automap.stations object at 0x00000232F2733B00>, 'USC00519397')\n",
      "(<sqlalchemy.ext.automap.stations object at 0x00000232F2733B70>, 'USC00513117')\n",
      "(<sqlalchemy.ext.automap.stations object at 0x00000232F2733BE0>, 'USC00514830')\n",
      "(<sqlalchemy.ext.automap.measurements object at 0x00000232F274A828>, '2010-01-01', 0.08)\n",
      "(<sqlalchemy.ext.automap.measurements object at 0x00000232F274A898>, '2010-01-02', 0.0)\n",
      "(<sqlalchemy.ext.automap.measurements object at 0x00000232F274A908>, '2010-01-03', 0.0)\n",
      "(<sqlalchemy.ext.automap.measurements object at 0x00000232F274A978>, '2010-01-04', 0.0)\n",
      "(<sqlalchemy.ext.automap.measurements object at 0x00000232F274A9E8>, '2010-01-07', 0.06)\n"
     ]
    }
   ],
   "source": [
    "# 1) engine.execute('select * from weather_measurements').fetchall()\n",
    "# 2) inspector is also used to retrieve data   # for structure\n",
    "# 3) select * from table (not class) will work? Below is 4th method.... what is the differnce?\n",
    "for row in session.query(Stations, Stations.station).limit(3).all():   #for classes\n",
    "    print(row)\n",
    "for row in session.query(Measurements, Measurements.date, Measurements.prcp).limit(5).all():\n",
    "    print(row)"
   ]
  },
  {
   "cell_type": "code",
   "execution_count": 9,
   "metadata": {},
   "outputs": [
    {
     "data": {
      "text/html": [
       "<div>\n",
       "<style>\n",
       "    .dataframe thead tr:only-child th {\n",
       "        text-align: right;\n",
       "    }\n",
       "\n",
       "    .dataframe thead th {\n",
       "        text-align: left;\n",
       "    }\n",
       "\n",
       "    .dataframe tbody tr th {\n",
       "        vertical-align: top;\n",
       "    }\n",
       "</style>\n",
       "<table border=\"1\" class=\"dataframe\">\n",
       "  <thead>\n",
       "    <tr style=\"text-align: right;\">\n",
       "      <th></th>\n",
       "      <th>prcp</th>\n",
       "    </tr>\n",
       "    <tr>\n",
       "      <th>date</th>\n",
       "      <th></th>\n",
       "    </tr>\n",
       "  </thead>\n",
       "  <tbody>\n",
       "    <tr>\n",
       "      <th>2016-01-01</th>\n",
       "      <td>0.00</td>\n",
       "    </tr>\n",
       "    <tr>\n",
       "      <th>2016-01-02</th>\n",
       "      <td>0.13</td>\n",
       "    </tr>\n",
       "    <tr>\n",
       "      <th>2016-01-03</th>\n",
       "      <td>0.00</td>\n",
       "    </tr>\n",
       "    <tr>\n",
       "      <th>2016-01-04</th>\n",
       "      <td>0.00</td>\n",
       "    </tr>\n",
       "    <tr>\n",
       "      <th>2016-01-05</th>\n",
       "      <td>0.00</td>\n",
       "    </tr>\n",
       "  </tbody>\n",
       "</table>\n",
       "</div>"
      ],
      "text/plain": [
       "            prcp\n",
       "date            \n",
       "2016-01-01  0.00\n",
       "2016-01-02  0.13\n",
       "2016-01-03  0.00\n",
       "2016-01-04  0.00\n",
       "2016-01-05  0.00"
      ]
     },
     "execution_count": 9,
     "metadata": {},
     "output_type": "execute_result"
    }
   ],
   "source": [
    "# PRECIPITATION ANALYSIS\n",
    "\n",
    "# Query to retrieve the last 12 months of precipitation data using only `date` and `prcp` values.\n",
    "\n",
    "sel = [Measurements.date, Measurements.prcp]\n",
    "prcp12_data = session.query(*sel).\\\n",
    "    filter(func.strftime(\"%YY/%m/%d\", Measurements.date) >= \"2016/08/01\").all()  \n",
    "    # Available data is upto August 2018 only, so 12 months from Aug 2016 to Aug 2017 considered.\n",
    "    \n",
    "prcp12_dict = dict(prcp12_data)\n",
    "prcp12_df = pd.DataFrame.from_dict(prcp12_dict, orient='index', dtype=None)\n",
    "prcp12_df = prcp12_df.reset_index()\n",
    "prcp12_df.columns = ['date', 'prcp']\n",
    "prcp12_df = prcp12_df.set_index('date')\n",
    "\n",
    "prcp12_df.head()"
   ]
  },
  {
   "cell_type": "code",
   "execution_count": 10,
   "metadata": {},
   "outputs": [
    {
     "data": {
      "image/png": "[encoded data removed]",
      "text/plain": [
       "<matplotlib.figure.Figure at 0x232f274ab38>"
      ]
     },
     "metadata": {},
     "output_type": "display_data"
    }
   ],
   "source": [
    "# Plot precipitation data \n",
    "\n",
    "ax = prcp12_df.plot(figsize = (10,7), rot = 45, use_index = True, legend=True, fontsize=12)\n",
    "ax.set_xlabel(\"Date\",fontsize=12)\n",
    "ax.set_ylabel(\"Precipation\",fontsize=12)\n",
    "plt.title(\"Precipition in Hawaii from %s to %s\" % (prcp12_df.index.min(),prcp12_df.index.max()))\n",
    "plt.xticks(rotation=45)\n",
    "plt.show()\n"
   ]
  },
  {
   "cell_type": "code",
   "execution_count": 11,
   "metadata": {},
   "outputs": [
    {
     "data": {
      "text/plain": [
       "{'_sa_instance_state': <sqlalchemy.orm.state.InstanceState at 0x232f2a34b38>,\n",
       " 'elavation': 3.0,\n",
       " 'latitude': 21.2716,\n",
       " 'longitude': -157.8168,\n",
       " 'name': 'WAIKIKI 717.2, HI US',\n",
       " 'station': 'USC00519397'}"
      ]
     },
     "execution_count": 11,
     "metadata": {},
     "output_type": "execute_result"
    }
   ],
   "source": [
    "#STATION ANALYSIS\n",
    "\n",
    "station_data = session.query(Stations).first()\n",
    "station_data.__dict__"
   ]
  },
  {
   "cell_type": "code",
   "execution_count": 12,
   "metadata": {},
   "outputs": [
    {
     "data": {
      "text/html": [
       "<div>\n",
       "<style>\n",
       "    .dataframe thead tr:only-child th {\n",
       "        text-align: right;\n",
       "    }\n",
       "\n",
       "    .dataframe thead th {\n",
       "        text-align: left;\n",
       "    }\n",
       "\n",
       "    .dataframe tbody tr th {\n",
       "        vertical-align: top;\n",
       "    }\n",
       "</style>\n",
       "<table border=\"1\" class=\"dataframe\">\n",
       "  <thead>\n",
       "    <tr style=\"text-align: right;\">\n",
       "      <th></th>\n",
       "      <th>prcp</th>\n",
       "    </tr>\n",
       "  </thead>\n",
       "  <tbody>\n",
       "    <tr>\n",
       "      <th>count</th>\n",
       "      <td>601.000000</td>\n",
       "    </tr>\n",
       "    <tr>\n",
       "      <th>mean</th>\n",
       "      <td>0.400017</td>\n",
       "    </tr>\n",
       "    <tr>\n",
       "      <th>std</th>\n",
       "      <td>0.685822</td>\n",
       "    </tr>\n",
       "    <tr>\n",
       "      <th>min</th>\n",
       "      <td>0.000000</td>\n",
       "    </tr>\n",
       "    <tr>\n",
       "      <th>25%</th>\n",
       "      <td>0.000000</td>\n",
       "    </tr>\n",
       "    <tr>\n",
       "      <th>50%</th>\n",
       "      <td>0.110000</td>\n",
       "    </tr>\n",
       "    <tr>\n",
       "      <th>75%</th>\n",
       "      <td>0.520000</td>\n",
       "    </tr>\n",
       "    <tr>\n",
       "      <th>max</th>\n",
       "      <td>6.700000</td>\n",
       "    </tr>\n",
       "  </tbody>\n",
       "</table>\n",
       "</div>"
      ],
      "text/plain": [
       "             prcp\n",
       "count  601.000000\n",
       "mean     0.400017\n",
       "std      0.685822\n",
       "min      0.000000\n",
       "25%      0.000000\n",
       "50%      0.110000\n",
       "75%      0.520000\n",
       "max      6.700000"
      ]
     },
     "execution_count": 12,
     "metadata": {},
     "output_type": "execute_result"
    }
   ],
   "source": [
    "# Use Pandas to give summary statistics of precipitation data\n",
    "prcp12_df.describe()"
   ]
  },
  {
   "cell_type": "code",
   "execution_count": 13,
   "metadata": {},
   "outputs": [
    {
     "data": {
      "text/plain": [
       "9"
      ]
     },
     "execution_count": 13,
     "metadata": {},
     "output_type": "execute_result"
    }
   ],
   "source": [
    "number_of_stations = session.query(Stations.station).count()\n",
    "number_of_stations"
   ]
  },
  {
   "cell_type": "code",
   "execution_count": 14,
   "metadata": {},
   "outputs": [
    {
     "data": {
      "text/plain": [
       "[('USC00519281', 'WAIHEE 837.5, HI US', 2772),\n",
       " ('USC00513117', 'KANEOHE 838.1, HI US', 2696),\n",
       " ('USC00519397', 'WAIKIKI 717.2, HI US', 2685),\n",
       " ('USC00519523', 'WAIMANALO EXPERIMENTAL FARM, HI US', 2572),\n",
       " ('USC00516128', 'MANOA LYON ARBO 785.2, HI US', 2484),\n",
       " ('USC00514830', 'KUALOA RANCH HEADQUARTERS 886.9, HI US', 1937),\n",
       " ('USC00511918', 'HONOLULU OBSERVATORY 702.2, HI US', 1932),\n",
       " ('USC00517948', 'PEARL CITY, HI US', 683),\n",
       " ('USC00518838', 'UPPER WAHIAWA 874.3, HI US', 342)]"
      ]
     },
     "execution_count": 14,
     "metadata": {},
     "output_type": "execute_result"
    }
   ],
   "source": [
    "sel = [Stations.station, Stations.name, func.count(Measurements.tobs)]\n",
    "stations_activity = session.query(*sel).\\\n",
    "filter(Stations.station == Measurements.station).group_by(Measurements.station).\\\n",
    "order_by(func.count(Measurements.tobs).desc()).all()\n",
    "\n",
    "stations_activity    # Most active stations are on top - listed in descending order"
   ]
  },
  {
   "cell_type": "code",
   "execution_count": 15,
   "metadata": {},
   "outputs": [
    {
     "data": {
      "text/plain": [
       "('USC00519281', 'WAIHEE 837.5, HI US')"
      ]
     },
     "execution_count": 15,
     "metadata": {},
     "output_type": "execute_result"
    }
   ],
   "source": [
    "# The most active station\n",
    "max_stations_activity = stations_activity[0][0:2]\n",
    "max_stations_activity"
   ]
  },
  {
   "cell_type": "code",
   "execution_count": 16,
   "metadata": {},
   "outputs": [
    {
     "data": {
      "image/png": "[encoded data removed]",
      "text/plain": [
       "<matplotlib.figure.Figure at 0x232f2ca01d0>"
      ]
     },
     "metadata": {},
     "output_type": "display_data"
    }
   ],
   "source": [
    "# Query to retrieve the last 12 months of temperature observation data (tobs).\n",
    "\n",
    "tobs12_data = session.query(Measurements.station, Measurements.tobs).\\\n",
    "filter(Measurements.station == max_stations_activity[0]).filter(func.strftime(\"%YY/%m/%d\", Measurements.date)>= \"2016-01-01\").all()\n",
    "\n",
    "temps = [x[1] for x in tobs12_data]\n",
    "plt.hist(temps, bins=12)\n",
    "plt.xlabel(\"Temperature (F)\")\n",
    "plt.ylabel(\"Frequency\")\n",
    "plt.title(\"Temperature Histogram at %s\" % (max_stations_activity[1]))\n",
    "plt.show()"
   ]
  },
  {
   "cell_type": "code",
   "execution_count": 17,
   "metadata": {},
   "outputs": [
    {
     "name": "stdout",
     "output_type": "stream",
     "text": [
      "Min Temp = 71.00,   Avg Temp = 79.10,   Max Temp = 83.00\n"
     ]
    }
   ],
   "source": [
    "# TEMPERATURE ANALYSIS \n",
    "\n",
    "# Write a function called `calc_temps` that will accept start date and end date in the format '%Y-%m-%d' \n",
    "# and return the minimum, average, and maximum temperatures for that range of dates\n",
    "\n",
    "def calc_temps(start_date, end_date):\n",
    "    \"\"\"TMIN, TAVG, and TMAX for a list of dates.\n",
    "    \n",
    "    Args:\n",
    "        start_date (string): A date string in the format %Y-%m-%d\n",
    "        end_date (string): A date string in the format %Y-%m-%d\n",
    "        \n",
    "    Returns:\n",
    "        TMIN, TAVE, and TMAX\n",
    "    \"\"\"\n",
    "    \n",
    "    return session.query(func.min(Measurements.tobs), func.avg(Measurements.tobs), func.max(Measurements.tobs)).\\\n",
    "        filter(Measurements.date >= start_date).filter(Measurements.date <= end_date).all()\n",
    "\n",
    "calc_temps_dict = calc_temps('2017-07-31', '2017-08-10')\n",
    "\n",
    "print(\"Min Temp = %2.2f,   Avg Temp = %2.2f,   Max Temp = %2.2f\" \\\n",
    "    % (calc_temps_dict[0][0], calc_temps_dict[0][1], calc_temps_dict[0][2]))"
   ]
  },
  {
   "cell_type": "code",
   "execution_count": 18,
   "metadata": {},
   "outputs": [
    {
     "data": {
      "image/png": "[encoded data removed]",
      "text/plain": [
       "<matplotlib.figure.Figure at 0x232f2be1320>"
      ]
     },
     "metadata": {},
     "output_type": "display_data"
    }
   ],
   "source": [
    "# create bar graph\n",
    "min_temp = calc_temps_dict[0][0]\n",
    "avg_temp = calc_temps_dict[0][1]\n",
    "max_temp = calc_temps_dict[0][2]\n",
    "plt.figure(figsize=(2,5))\n",
    "plt.title(\"Trip Average Temp with y error bar\")\n",
    "plt.ylabel(\"Temperature (F)\")\n",
    "plt.bar(1, avg_temp, yerr = (max_temp - min_temp), tick_label = \"average temp\")\n",
    "plt.show()"
   ]
  },
  {
   "cell_type": "code",
   "execution_count": 19,
   "metadata": {},
   "outputs": [
    {
     "data": {
      "text/html": [
       "<div>\n",
       "<style>\n",
       "    .dataframe thead tr:only-child th {\n",
       "        text-align: right;\n",
       "    }\n",
       "\n",
       "    .dataframe thead th {\n",
       "        text-align: left;\n",
       "    }\n",
       "\n",
       "    .dataframe tbody tr th {\n",
       "        vertical-align: top;\n",
       "    }\n",
       "</style>\n",
       "<table border=\"1\" class=\"dataframe\">\n",
       "  <thead>\n",
       "    <tr style=\"text-align: right;\">\n",
       "      <th></th>\n",
       "      <th>station</th>\n",
       "      <th>precipitation</th>\n",
       "    </tr>\n",
       "  </thead>\n",
       "  <tbody>\n",
       "    <tr>\n",
       "      <th>0</th>\n",
       "      <td>USC00511918</td>\n",
       "      <td>6.09</td>\n",
       "    </tr>\n",
       "    <tr>\n",
       "      <th>1</th>\n",
       "      <td>USC00513117</td>\n",
       "      <td>53.49</td>\n",
       "    </tr>\n",
       "    <tr>\n",
       "      <th>2</th>\n",
       "      <td>USC00514830</td>\n",
       "      <td>41.55</td>\n",
       "    </tr>\n",
       "    <tr>\n",
       "      <th>3</th>\n",
       "      <td>USC00516128</td>\n",
       "      <td>165.52</td>\n",
       "    </tr>\n",
       "    <tr>\n",
       "      <th>4</th>\n",
       "      <td>USC00517948</td>\n",
       "      <td>3.62</td>\n",
       "    </tr>\n",
       "    <tr>\n",
       "      <th>5</th>\n",
       "      <td>USC00518838</td>\n",
       "      <td>0.00</td>\n",
       "    </tr>\n",
       "    <tr>\n",
       "      <th>6</th>\n",
       "      <td>USC00519281</td>\n",
       "      <td>87.70</td>\n",
       "    </tr>\n",
       "    <tr>\n",
       "      <th>7</th>\n",
       "      <td>USC00519397</td>\n",
       "      <td>18.36</td>\n",
       "    </tr>\n",
       "    <tr>\n",
       "      <th>8</th>\n",
       "      <td>USC00519523</td>\n",
       "      <td>56.93</td>\n",
       "    </tr>\n",
       "  </tbody>\n",
       "</table>\n",
       "</div>"
      ],
      "text/plain": [
       "       station  precipitation\n",
       "0  USC00511918           6.09\n",
       "1  USC00513117          53.49\n",
       "2  USC00514830          41.55\n",
       "3  USC00516128         165.52\n",
       "4  USC00517948           3.62\n",
       "5  USC00518838           0.00\n",
       "6  USC00519281          87.70\n",
       "7  USC00519397          18.36\n",
       "8  USC00519523          56.93"
      ]
     },
     "execution_count": 19,
     "metadata": {},
     "output_type": "execute_result"
    }
   ],
   "source": [
    "# OPTIONAL RECOMMENDED ANALYSIS\n",
    "\n",
    "# Rainfall per weather station in the year using the previous year's matching dates.\n",
    "\n",
    "sel = [Stations.station, func.sum(Measurements.prcp)]\n",
    "prcp_previous_year_data = session.query(*sel).\\\n",
    "    filter(Stations.station == Measurements.station).\\\n",
    "    filter(func.strftime(\"%YY/%m/%d\", Measurements.date) >= \"2015/08/01\").\\\n",
    "    filter(func.strftime(\"%YY/%m/%d\", Measurements.date) <= \"2016/08/01\").\\\n",
    "    group_by(Measurements.station).all()  \n",
    "    \n",
    "prcp_previous_year_dict = dict(prcp_previous_year_data)\n",
    "prcp_previous_year_df = pd.DataFrame.from_dict(prcp_previous_year_dict, orient='index', dtype=None)\n",
    "prcp_previous_year_df = prcp_previous_year_df.reset_index()\n",
    "prcp_previous_year_df.columns = ['station', 'precipitation']\n",
    "\n",
    "prcp_previous_year_df"
   ]
  },
  {
   "cell_type": "code",
   "execution_count": null,
   "metadata": {
    "collapsed": true
   },
   "outputs": [],
   "source": []
  }
 ],
 "metadata": {
  "kernelspec": {
   "display_name": "Python 3",
   "language": "python",
   "name": "python3"
  },
  "language_info": {
   "codemirror_mode": {
    "name": "ipython",
    "version": 3
   },
   "file_extension": ".py",
   "mimetype": "text/x-python",
   "name": "python",
   "nbconvert_exporter": "python",
   "pygments_lexer": "ipython3",
   "version": "3.6.2"
  }
 },
 "nbformat": 4,
 "nbformat_minor": 2
}
