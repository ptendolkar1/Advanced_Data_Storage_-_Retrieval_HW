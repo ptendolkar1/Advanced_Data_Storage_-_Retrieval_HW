{
 "cells": [
  {
   "cell_type": "code",
   "execution_count": 50,
   "metadata": {
    "collapsed": true
   },
   "outputs": [],
   "source": [
    "# Import SQL Alchemy\n",
    "import sqlalchemy \n",
    "from sqlalchemy import create_engine\n",
    "from sqlalchemy.orm import Session\n",
    "\n",
    "# Import and establish Base for which classes will be constructed \n",
    "from sqlalchemy.ext.automap import automap_base\n",
    "\n",
    "# Import modules to declare columns and column data types\n",
    "from sqlalchemy import Column, Integer, String, Float, inspect, MetaData, Table, func\n",
    "\n",
    "from datetime import datetime as dt\n",
    "\n",
    "import pandas as pd\n",
    "import numpy as np\n",
    "import matplotlib.pyplot as plt\n",
    "import seaborn"
   ]
  },
  {
   "cell_type": "code",
   "execution_count": 51,
   "metadata": {
    "collapsed": true
   },
   "outputs": [],
   "source": [
    "# Create an engine to a SQLite database file called `hawaii.sqlite`\n",
    "engine = create_engine(\"sqlite:///hawaii.sqlite\")\n",
    "\n",
    "# engine.execute('SELECT * FROM weather_measurements LIMIT 5').fetchall()\n",
    "# engine.execute('SELECT * FROM weather_stations LIMIT 5').fetchall()"
   ]
  },
  {
   "cell_type": "code",
   "execution_count": 52,
   "metadata": {
    "collapsed": true
   },
   "outputs": [],
   "source": [
    "# Declare a Base using `automap_base()` OR assign Base the automap functionality\n",
    "Base = automap_base()"
   ]
  },
  {
   "cell_type": "code",
   "execution_count": 53,
   "metadata": {
    "collapsed": true
   },
   "outputs": [],
   "source": [
    "# Use the Base class to reflect the database tables from engine. Automap base converts tables to classes automatically \n",
    "Base.prepare(engine, reflect=True)"
   ]
  },
  {
   "cell_type": "code",
   "execution_count": 54,
   "metadata": {},
   "outputs": [
    {
     "data": {
      "text/plain": [
       "['measurements', 'stations']"
      ]
     },
     "execution_count": 54,
     "metadata": {},
     "output_type": "execute_result"
    }
   ],
   "source": [
    "# Print all of the classes mapped to the Base\n",
    "Base.classes.keys()"
   ]
  },
  {
   "cell_type": "code",
   "execution_count": 55,
   "metadata": {
    "collapsed": true
   },
   "outputs": [],
   "source": [
    "# Reflect tables into classes and save a reference to those classes called `Station` and `Measurement`. \n",
    "Measurements = Base.classes.measurements\n",
    "Stations = Base.classes.stations"
   ]
  },
  {
   "cell_type": "code",
   "execution_count": 56,
   "metadata": {
    "collapsed": true
   },
   "outputs": [],
   "source": [
    "# Create a session\n",
    "session = Session(engine)"
   ]
  },
  {
   "cell_type": "code",
   "execution_count": 57,
   "metadata": {},
   "outputs": [
    {
     "name": "stdout",
     "output_type": "stream",
     "text": [
      "(<sqlalchemy.ext.automap.stations object at 0x00000232E3D9A9B0>, 'USC00519397')\n",
      "(<sqlalchemy.ext.automap.stations object at 0x00000232E3D9A6A0>, 'USC00513117')\n",
      "(<sqlalchemy.ext.automap.stations object at 0x00000232E3D9A550>, 'USC00514830')\n",
      "(<sqlalchemy.ext.automap.measurements object at 0x00000232E3DAF710>, '2010-01-01', 0.08)\n",
      "(<sqlalchemy.ext.automap.measurements object at 0x00000232E3DAFA90>, '2010-01-02', 0.0)\n",
      "(<sqlalchemy.ext.automap.measurements object at 0x00000232E3DAF550>, '2010-01-03', 0.0)\n",
      "(<sqlalchemy.ext.automap.measurements object at 0x00000232E3DAF128>, '2010-01-04', 0.0)\n",
      "(<sqlalchemy.ext.automap.measurements object at 0x00000232E3DAFB00>, '2010-01-07', 0.06)\n"
     ]
    }
   ],
   "source": [
    "# 1) engine.execute('select * from weather_measurements').fetchall()\n",
    "# 2) inspector is also used to retrieve data   # for structure\n",
    "# 3) select * from table (not class) will work? Below is 4th method.... what is the differnce?\n",
    "for row in session.query(Stations, Stations.station).limit(3).all():   #for classes\n",
    "    print(row)\n",
    "for row in session.query(Measurements, Measurements.date, Measurements.prcp).limit(5).all():\n",
    "    print(row)"
   ]
  },
  {
   "cell_type": "code",
   "execution_count": 101,
   "metadata": {},
   "outputs": [
    {
     "data": {
      "text/html": [
       "<div>\n",
       "<style>\n",
       "    .dataframe thead tr:only-child th {\n",
       "        text-align: right;\n",
       "    }\n",
       "\n",
       "    .dataframe thead th {\n",
       "        text-align: left;\n",
       "    }\n",
       "\n",
       "    .dataframe tbody tr th {\n",
       "        vertical-align: top;\n",
       "    }\n",
       "</style>\n",
       "<table border=\"1\" class=\"dataframe\">\n",
       "  <thead>\n",
       "    <tr style=\"text-align: right;\">\n",
       "      <th></th>\n",
       "      <th>prcp</th>\n",
       "    </tr>\n",
       "    <tr>\n",
       "      <th>date</th>\n",
       "      <th></th>\n",
       "    </tr>\n",
       "  </thead>\n",
       "  <tbody>\n",
       "    <tr>\n",
       "      <th>2017-01-01</th>\n",
       "      <td>0.03</td>\n",
       "    </tr>\n",
       "    <tr>\n",
       "      <th>2017-01-02</th>\n",
       "      <td>0.00</td>\n",
       "    </tr>\n",
       "    <tr>\n",
       "      <th>2017-01-03</th>\n",
       "      <td>0.00</td>\n",
       "    </tr>\n",
       "    <tr>\n",
       "      <th>2017-01-04</th>\n",
       "      <td>0.00</td>\n",
       "    </tr>\n",
       "    <tr>\n",
       "      <th>2017-01-05</th>\n",
       "      <td>0.47</td>\n",
       "    </tr>\n",
       "  </tbody>\n",
       "</table>\n",
       "</div>"
      ],
      "text/plain": [
       "            prcp\n",
       "date            \n",
       "2017-01-01  0.03\n",
       "2017-01-02  0.00\n",
       "2017-01-03  0.00\n",
       "2017-01-04  0.00\n",
       "2017-01-05  0.47"
      ]
     },
     "execution_count": 101,
     "metadata": {},
     "output_type": "execute_result"
    }
   ],
   "source": [
    "# PRECIPITATION ANALYSIS\n",
    "\n",
    "# Query to retrieve the last 12 months of precipitation data using only `date` and `prcp` values.\n",
    "\n",
    "sel = [Measurements.date, Measurements.prcp]\n",
    "prcp12_data = session.query(*sel).\\\n",
    "    filter(func.strftime(\"%YY/%m/%d\", Measurements.date) >= \"2017/01/01\").all()\n",
    "    \n",
    "prcp12_dict = dict(prcp12_data)\n",
    "prcp12_df = pd.DataFrame.from_dict(prcp12_dict, orient='index', dtype=None)\n",
    "prcp12_df = prcp12_df.reset_index()\n",
    "prcp12_df.columns = ['date', 'prcp']\n",
    "prcp12_df = prcp12_df.set_index('date')\n",
    "\n",
    "prcp12_df.head()"
   ]
  },
  {
   "cell_type": "code",
   "execution_count": 102,
   "metadata": {},
   "outputs": [
    {
     "data": {
      "image/png": "[encoded data removed]",
      "text/plain": [
       "<matplotlib.figure.Figure at 0x232e3e68470>"
      ]
     },
     "metadata": {},
     "output_type": "display_data"
    }
   ],
   "source": [
    "prcp12_df.plot(figsize = (10,7), rot = 45, use_index = True, legend=False)\n",
    "plt.ylabel('Precipation')\n",
    "plt.xlabel('Date')\n",
    "plt.title(\"Precipition in Hawaii from %s to %s\" % (prcp12_df.index.min(),prcp12_df.index.max()))\n",
    "plt.show()"
   ]
  },
  {
   "cell_type": "code",
   "execution_count": 103,
   "metadata": {},
   "outputs": [
    {
     "data": {
      "text/plain": [
       "{'_sa_instance_state': <sqlalchemy.orm.state.InstanceState at 0x232e3e5d898>,\n",
       " 'elavation': 3.0,\n",
       " 'latitude': 21.2716,\n",
       " 'longitude': -157.8168,\n",
       " 'name': 'WAIKIKI 717.2, HI US',\n",
       " 'station': 'USC00519397'}"
      ]
     },
     "execution_count": 103,
     "metadata": {},
     "output_type": "execute_result"
    }
   ],
   "source": [
    "#STATION ANALYSIS\n",
    "\n",
    "station_data = session.query(Stations).first()\n",
    "station_data.__dict__"
   ]
  },
  {
   "cell_type": "code",
   "execution_count": 104,
   "metadata": {},
   "outputs": [
    {
     "data": {
      "text/plain": [
       "9"
      ]
     },
     "execution_count": 104,
     "metadata": {},
     "output_type": "execute_result"
    }
   ],
   "source": [
    "number_of_stations = session.query(Stations.station).count()\n",
    "number_of_stations"
   ]
  },
  {
   "cell_type": "code",
   "execution_count": 105,
   "metadata": {},
   "outputs": [
    {
     "data": {
      "text/plain": [
       "[('USC00519281', 'WAIHEE 837.5, HI US', 2772),\n",
       " ('USC00513117', 'KANEOHE 838.1, HI US', 2696),\n",
       " ('USC00519397', 'WAIKIKI 717.2, HI US', 2685),\n",
       " ('USC00519523', 'WAIMANALO EXPERIMENTAL FARM, HI US', 2572),\n",
       " ('USC00516128', 'MANOA LYON ARBO 785.2, HI US', 2484),\n",
       " ('USC00514830', 'KUALOA RANCH HEADQUARTERS 886.9, HI US', 1937),\n",
       " ('USC00511918', 'HONOLULU OBSERVATORY 702.2, HI US', 1932),\n",
       " ('USC00517948', 'PEARL CITY, HI US', 683),\n",
       " ('USC00518838', 'UPPER WAHIAWA 874.3, HI US', 342)]"
      ]
     },
     "execution_count": 105,
     "metadata": {},
     "output_type": "execute_result"
    }
   ],
   "source": [
    "sel = [Stations.station, Stations.name, func.count(Measurements.tobs)]\n",
    "stations_activity = session.query(*sel).\\\n",
    "filter(Stations.station == Measurements.station).group_by(Measurements.station).\\\n",
    "order_by(func.count(Measurements.tobs).desc()).all()\n",
    "\n",
    "stations_activity    # Most active stations are on top - listed in descending order"
   ]
  },
  {
   "cell_type": "code",
   "execution_count": 106,
   "metadata": {},
   "outputs": [
    {
     "data": {
      "text/plain": [
       "('USC00519281', 'WAIHEE 837.5, HI US')"
      ]
     },
     "execution_count": 106,
     "metadata": {},
     "output_type": "execute_result"
    }
   ],
   "source": [
    "# The most active station\n",
    "max_stations_activity = stations_activity[0][0:2]\n",
    "max_stations_activity"
   ]
  },
  {
   "cell_type": "code",
   "execution_count": 116,
   "metadata": {},
   "outputs": [
    {
     "data": {
      "image/png": "[encoded data removed]",
      "text/plain": [
       "<matplotlib.figure.Figure at 0x232e39c8160>"
      ]
     },
     "metadata": {},
     "output_type": "display_data"
    }
   ],
   "source": [
    "# Query to retrieve the last 12 months of temperature observation data (tobs).\n",
    "\n",
    "tobs12_data = session.query(Measurements.station, Measurements.tobs).\\\n",
    "filter(Measurements.station == max_stations_activity[0]).filter(func.strftime(\"%YY/%m/%d\", Measurements.date)>= \"2016-01-01\").all()\n",
    "\n",
    "temps = [x[1] for x in tobs12_data]\n",
    "plt.hist(temps, bins=12)\n",
    "plt.xlabel(\"Temperature (F)\")\n",
    "plt.ylabel(\"Frequency\")\n",
    "plt.title(\"Temperature Histogram at %s\" % (max_stations_activity[1]))\n",
    "plt.show()"
   ]
  },
  {
   "cell_type": "code",
   "execution_count": 167,
   "metadata": {},
   "outputs": [
    {
     "name": "stdout",
     "output_type": "stream",
     "text": [
      "Min Temp = 71.00,   Avg Temp = 79.10,   Max Temp = 83.00\n"
     ]
    }
   ],
   "source": [
    "# TEMPERATURE ANALYSIS \n",
    "\n",
    "# Write a function called `calc_temps` that will accept start date and end date in the format '%Y-%m-%d' \n",
    "# and return the minimum, average, and maximum temperatures for that range of dates\n",
    "\n",
    "def calc_temps(start_date, end_date):\n",
    "    \"\"\"TMIN, TAVG, and TMAX for a list of dates.\n",
    "    \n",
    "    Args:\n",
    "        start_date (string): A date string in the format %Y-%m-%d\n",
    "        end_date (string): A date string in the format %Y-%m-%d\n",
    "        \n",
    "    Returns:\n",
    "        TMIN, TAVE, and TMAX\n",
    "    \"\"\"\n",
    "    \n",
    "    return session.query(func.min(Measurements.tobs), func.avg(Measurements.tobs), func.max(Measurements.tobs)).\\\n",
    "        filter(Measurements.date >= start_date).filter(Measurements.date <= end_date).all()\n",
    "\n",
    "calc_temps_dict = calc_temps('2017-07-31', '2017-08-10')\n",
    "\n",
    "print(\"Min Temp = %2.2f,   Avg Temp = %2.2f,   Max Temp = %2.2f\" \\\n",
    "    % (calc_temps_dict[0][0], calc_temps_dict[0][1], calc_temps_dict[0][2]))"
   ]
  },
  {
   "cell_type": "code",
   "execution_count": 168,
   "metadata": {},
   "outputs": [
    {
     "data": {
      "image/png": "[encoded data removed]",
      "text/plain": [
       "<matplotlib.figure.Figure at 0x232e3d866d8>"
      ]
     },
     "metadata": {},
     "output_type": "display_data"
    }
   ],
   "source": [
    "# create bar graph\n",
    "min_temp = calc_temps_dict[0][0]\n",
    "avg_temp = calc_temps_dict[0][1]\n",
    "max_temp = calc_temps_dict[0][2]\n",
    "plt.figure(figsize=(2,5))\n",
    "plt.title(\"Trip Average Temp with y error bar\")\n",
    "plt.ylabel(\"Temperature (F)\")\n",
    "plt.bar(1, avg_temp, yerr = (max_temp - min_temp), tick_label = \"average temp\")\n",
    "plt.show()"
   ]
  },
  {
   "cell_type": "code",
   "execution_count": null,
   "metadata": {
    "collapsed": true
   },
   "outputs": [],
   "source": [
    "# ClIMATE APP\n",
    "\n",
    "from flask import Flask\n",
    "app = Flask(__name__)\n",
    "\n",
    "@app.route(`/api/v1.0/precipitation`)\n",
    "def hello_world():\n",
    "    return 'Hello, World!'\n"
   ]
  }
 ],
 "metadata": {
  "kernelspec": {
   "display_name": "Python 3",
   "language": "python",
   "name": "python3"
  },
  "language_info": {
   "codemirror_mode": {
    "name": "ipython",
    "version": 3
   },
   "file_extension": ".py",
   "mimetype": "text/x-python",
   "name": "python",
   "nbconvert_exporter": "python",
   "pygments_lexer": "ipython3",
   "version": "3.6.2"
  }
 },
 "nbformat": 4,
 "nbformat_minor": 2
}
